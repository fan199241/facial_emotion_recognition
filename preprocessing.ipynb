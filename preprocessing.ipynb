{
 "cells": [
  {
   "cell_type": "code",
   "execution_count": 1,
   "metadata": {},
   "outputs": [],
   "source": [
    "import pandas as pd\n",
    "import seaborn as sns\n",
    "import matplotlib.pyplot as plt\n",
    "import numpy as np\n"
   ]
  },
  {
   "cell_type": "code",
   "execution_count": 2,
   "metadata": {},
   "outputs": [
    {
     "data": {
      "text/plain": [
       "(35887, 3)"
      ]
     },
     "execution_count": 2,
     "metadata": {},
     "output_type": "execute_result"
    }
   ],
   "source": [
    "df = pd.read_csv('fer2013.csv')\n",
    "df.shape"
   ]
  },
  {
   "cell_type": "code",
   "execution_count": 3,
   "metadata": {},
   "outputs": [
    {
     "data": {
      "text/html": [
       "<div>\n",
       "<style scoped>\n",
       "    .dataframe tbody tr th:only-of-type {\n",
       "        vertical-align: middle;\n",
       "    }\n",
       "\n",
       "    .dataframe tbody tr th {\n",
       "        vertical-align: top;\n",
       "    }\n",
       "\n",
       "    .dataframe thead th {\n",
       "        text-align: right;\n",
       "    }\n",
       "</style>\n",
       "<table border=\"1\" class=\"dataframe\">\n",
       "  <thead>\n",
       "    <tr style=\"text-align: right;\">\n",
       "      <th></th>\n",
       "      <th>emotion</th>\n",
       "      <th>pixels</th>\n",
       "      <th>Usage</th>\n",
       "    </tr>\n",
       "  </thead>\n",
       "  <tbody>\n",
       "    <tr>\n",
       "      <th>0</th>\n",
       "      <td>0</td>\n",
       "      <td>70 80 82 72 58 58 60 63 54 58 60 48 89 115 121...</td>\n",
       "      <td>Training</td>\n",
       "    </tr>\n",
       "    <tr>\n",
       "      <th>1</th>\n",
       "      <td>0</td>\n",
       "      <td>151 150 147 155 148 133 111 140 170 174 182 15...</td>\n",
       "      <td>Training</td>\n",
       "    </tr>\n",
       "    <tr>\n",
       "      <th>2</th>\n",
       "      <td>2</td>\n",
       "      <td>231 212 156 164 174 138 161 173 182 200 106 38...</td>\n",
       "      <td>Training</td>\n",
       "    </tr>\n",
       "    <tr>\n",
       "      <th>3</th>\n",
       "      <td>4</td>\n",
       "      <td>24 32 36 30 32 23 19 20 30 41 21 22 32 34 21 1...</td>\n",
       "      <td>Training</td>\n",
       "    </tr>\n",
       "    <tr>\n",
       "      <th>4</th>\n",
       "      <td>6</td>\n",
       "      <td>4 0 0 0 0 0 0 0 0 0 0 0 3 15 23 28 48 50 58 84...</td>\n",
       "      <td>Training</td>\n",
       "    </tr>\n",
       "  </tbody>\n",
       "</table>\n",
       "</div>"
      ],
      "text/plain": [
       "   emotion                                             pixels     Usage\n",
       "0        0  70 80 82 72 58 58 60 63 54 58 60 48 89 115 121...  Training\n",
       "1        0  151 150 147 155 148 133 111 140 170 174 182 15...  Training\n",
       "2        2  231 212 156 164 174 138 161 173 182 200 106 38...  Training\n",
       "3        4  24 32 36 30 32 23 19 20 30 41 21 22 32 34 21 1...  Training\n",
       "4        6  4 0 0 0 0 0 0 0 0 0 0 0 3 15 23 28 48 50 58 84...  Training"
      ]
     },
     "execution_count": 3,
     "metadata": {},
     "output_type": "execute_result"
    }
   ],
   "source": [
    "df.head()"
   ]
  },
  {
   "cell_type": "code",
   "execution_count": 4,
   "metadata": {},
   "outputs": [
    {
     "name": "stdout",
     "output_type": "stream",
     "text": [
      "Training       28709\n",
      "PublicTest      3589\n",
      "PrivateTest     3589\n",
      "Name: Usage, dtype: int64\n"
     ]
    }
   ],
   "source": [
    "print(df['Usage'].value_counts())"
   ]
  },
  {
   "cell_type": "code",
   "execution_count": 5,
   "metadata": {},
   "outputs": [
    {
     "data": {
      "text/plain": [
       "3    8989\n",
       "6    6198\n",
       "4    6077\n",
       "2    5121\n",
       "0    4953\n",
       "5    4002\n",
       "1     547\n",
       "Name: emotion, dtype: int64"
      ]
     },
     "execution_count": 5,
     "metadata": {},
     "output_type": "execute_result"
    }
   ],
   "source": [
    "df.emotion.value_counts()"
   ]
  },
  {
   "cell_type": "code",
   "execution_count": 6,
   "metadata": {},
   "outputs": [
    {
     "data": {
      "text/plain": [
       "<matplotlib.axes._subplots.AxesSubplot at 0x7fa24647feb8>"
      ]
     },
     "execution_count": 6,
     "metadata": {},
     "output_type": "execute_result"
    },
    {
     "data": {
      "image/png": "[encoded data removed]",
      "text/plain": [
       "<Figure size 432x288 with 1 Axes>"
      ]
     },
     "metadata": {
      "needs_background": "light"
     },
     "output_type": "display_data"
    }
   ],
   "source": [
    "sns.countplot(df.emotion)\n",
    "plt.show()"
   ]
  },
  {
   "cell_type": "code",
   "execution_count": 7,
   "metadata": {},
   "outputs": [
    {
     "data": {
      "text/plain": [
       "<matplotlib.image.AxesImage at 0x7fa23675fd30>"
      ]
     },
     "execution_count": 7,
     "metadata": {},
     "output_type": "execute_result"
    },
    {
     "data": {
      "text/plain": [
       "[]"
      ]
     },
     "execution_count": 7,
     "metadata": {},
     "output_type": "execute_result"
    },
    {
     "data": {
      "text/plain": [
       "[]"
      ]
     },
     "execution_count": 7,
     "metadata": {},
     "output_type": "execute_result"
    },
    {
     "data": {
      "text/plain": [
       "Text(0.5, 1.0, 'anger')"
      ]
     },
     "execution_count": 7,
     "metadata": {},
     "output_type": "execute_result"
    },
    {
     "data": {
      "text/plain": [
       "<matplotlib.image.AxesImage at 0x7fa2367909e8>"
      ]
     },
     "execution_count": 7,
     "metadata": {},
     "output_type": "execute_result"
    },
    {
     "data": {
      "text/plain": [
       "[]"
      ]
     },
     "execution_count": 7,
     "metadata": {},
     "output_type": "execute_result"
    },
    {
     "data": {
      "text/plain": [
       "[]"
      ]
     },
     "execution_count": 7,
     "metadata": {},
     "output_type": "execute_result"
    },
    {
     "data": {
      "text/plain": [
       "Text(0.5, 1.0, 'anger')"
      ]
     },
     "execution_count": 7,
     "metadata": {},
     "output_type": "execute_result"
    },
    {
     "data": {
      "text/plain": [
       "<matplotlib.image.AxesImage at 0x7fa2367c14a8>"
      ]
     },
     "execution_count": 7,
     "metadata": {},
     "output_type": "execute_result"
    },
    {
     "data": {
      "text/plain": [
       "[]"
      ]
     },
     "execution_count": 7,
     "metadata": {},
     "output_type": "execute_result"
    },
    {
     "data": {
      "text/plain": [
       "[]"
      ]
     },
     "execution_count": 7,
     "metadata": {},
     "output_type": "execute_result"
    },
    {
     "data": {
      "text/plain": [
       "Text(0.5, 1.0, 'anger')"
      ]
     },
     "execution_count": 7,
     "metadata": {},
     "output_type": "execute_result"
    },
    {
     "data": {
      "text/plain": [
       "<matplotlib.image.AxesImage at 0x7fa237bf9f28>"
      ]
     },
     "execution_count": 7,
     "metadata": {},
     "output_type": "execute_result"
    },
    {
     "data": {
      "text/plain": [
       "[]"
      ]
     },
     "execution_count": 7,
     "metadata": {},
     "output_type": "execute_result"
    },
    {
     "data": {
      "text/plain": [
       "[]"
      ]
     },
     "execution_count": 7,
     "metadata": {},
     "output_type": "execute_result"
    },
    {
     "data": {
      "text/plain": [
       "Text(0.5, 1.0, 'anger')"
      ]
     },
     "execution_count": 7,
     "metadata": {},
     "output_type": "execute_result"
    },
    {
     "data": {
      "text/plain": [
       "<matplotlib.image.AxesImage at 0x7fa237c2b9e8>"
      ]
     },
     "execution_count": 7,
     "metadata": {},
     "output_type": "execute_result"
    },
    {
     "data": {
      "text/plain": [
       "[]"
      ]
     },
     "execution_count": 7,
     "metadata": {},
     "output_type": "execute_result"
    },
    {
     "data": {
      "text/plain": [
       "[]"
      ]
     },
     "execution_count": 7,
     "metadata": {},
     "output_type": "execute_result"
    },
    {
     "data": {
      "text/plain": [
       "Text(0.5, 1.0, 'anger')"
      ]
     },
     "execution_count": 7,
     "metadata": {},
     "output_type": "execute_result"
    },
    {
     "data": {
      "text/plain": [
       "<matplotlib.image.AxesImage at 0x7fa237c604a8>"
      ]
     },
     "execution_count": 7,
     "metadata": {},
     "output_type": "execute_result"
    },
    {
     "data": {
      "text/plain": [
       "[]"
      ]
     },
     "execution_count": 7,
     "metadata": {},
     "output_type": "execute_result"
    },
    {
     "data": {
      "text/plain": [
       "[]"
      ]
     },
     "execution_count": 7,
     "metadata": {},
     "output_type": "execute_result"
    },
    {
     "data": {
      "text/plain": [
       "Text(0.5, 1.0, 'anger')"
      ]
     },
     "execution_count": 7,
     "metadata": {},
     "output_type": "execute_result"
    },
    {
     "data": {
      "text/plain": [
       "<matplotlib.image.AxesImage at 0x7fa237c85ef0>"
      ]
     },
     "execution_count": 7,
     "metadata": {},
     "output_type": "execute_result"
    },
    {
     "data": {
      "text/plain": [
       "[]"
      ]
     },
     "execution_count": 7,
     "metadata": {},
     "output_type": "execute_result"
    },
    {
     "data": {
      "text/plain": [
       "[]"
      ]
     },
     "execution_count": 7,
     "metadata": {},
     "output_type": "execute_result"
    },
    {
     "data": {
      "text/plain": [
       "Text(0.5, 1.0, 'anger')"
      ]
     },
     "execution_count": 7,
     "metadata": {},
     "output_type": "execute_result"
    },
    {
     "data": {
      "text/plain": [
       "<matplotlib.image.AxesImage at 0x7fa237cba9e8>"
      ]
     },
     "execution_count": 7,
     "metadata": {},
     "output_type": "execute_result"
    },
    {
     "data": {
      "text/plain": [
       "[]"
      ]
     },
     "execution_count": 7,
     "metadata": {},
     "output_type": "execute_result"
    },
    {
     "data": {
      "text/plain": [
       "[]"
      ]
     },
     "execution_count": 7,
     "metadata": {},
     "output_type": "execute_result"
    },
    {
     "data": {
      "text/plain": [
       "Text(0.5, 1.0, 'disgust')"
      ]
     },
     "execution_count": 7,
     "metadata": {},
     "output_type": "execute_result"
    },
    {
     "data": {
      "text/plain": [
       "<matplotlib.image.AxesImage at 0x7fa237cf84e0>"
      ]
     },
     "execution_count": 7,
     "metadata": {},
     "output_type": "execute_result"
    },
    {
     "data": {
      "text/plain": [
       "[]"
      ]
     },
     "execution_count": 7,
     "metadata": {},
     "output_type": "execute_result"
    },
    {
     "data": {
      "text/plain": [
       "[]"
      ]
     },
     "execution_count": 7,
     "metadata": {},
     "output_type": "execute_result"
    },
    {
     "data": {
      "text/plain": [
       "Text(0.5, 1.0, 'disgust')"
      ]
     },
     "execution_count": 7,
     "metadata": {},
     "output_type": "execute_result"
    },
    {
     "data": {
      "text/plain": [
       "<matplotlib.image.AxesImage at 0x7fa237d26f60>"
      ]
     },
     "execution_count": 7,
     "metadata": {},
     "output_type": "execute_result"
    },
    {
     "data": {
      "text/plain": [
       "[]"
      ]
     },
     "execution_count": 7,
     "metadata": {},
     "output_type": "execute_result"
    },
    {
     "data": {
      "text/plain": [
       "[]"
      ]
     },
     "execution_count": 7,
     "metadata": {},
     "output_type": "execute_result"
    },
    {
     "data": {
      "text/plain": [
       "Text(0.5, 1.0, 'disgust')"
      ]
     },
     "execution_count": 7,
     "metadata": {},
     "output_type": "execute_result"
    },
    {
     "data": {
      "text/plain": [
       "<matplotlib.image.AxesImage at 0x7fa237d5aa20>"
      ]
     },
     "execution_count": 7,
     "metadata": {},
     "output_type": "execute_result"
    },
    {
     "data": {
      "text/plain": [
       "[]"
      ]
     },
     "execution_count": 7,
     "metadata": {},
     "output_type": "execute_result"
    },
    {
     "data": {
      "text/plain": [
       "[]"
      ]
     },
     "execution_count": 7,
     "metadata": {},
     "output_type": "execute_result"
    },
    {
     "data": {
      "text/plain": [
       "Text(0.5, 1.0, 'disgust')"
      ]
     },
     "execution_count": 7,
     "metadata": {},
     "output_type": "execute_result"
    },
    {
     "data": {
      "text/plain": [
       "<matplotlib.image.AxesImage at 0x7fa237d8d4e0>"
      ]
     },
     "execution_count": 7,
     "metadata": {},
     "output_type": "execute_result"
    },
    {
     "data": {
      "text/plain": [
       "[]"
      ]
     },
     "execution_count": 7,
     "metadata": {},
     "output_type": "execute_result"
    },
    {
     "data": {
      "text/plain": [
       "[]"
      ]
     },
     "execution_count": 7,
     "metadata": {},
     "output_type": "execute_result"
    },
    {
     "data": {
      "text/plain": [
       "Text(0.5, 1.0, 'disgust')"
      ]
     },
     "execution_count": 7,
     "metadata": {},
     "output_type": "execute_result"
    },
    {
     "data": {
      "text/plain": [
       "<matplotlib.image.AxesImage at 0x7fa237dd0f60>"
      ]
     },
     "execution_count": 7,
     "metadata": {},
     "output_type": "execute_result"
    },
    {
     "data": {
      "text/plain": [
       "[]"
      ]
     },
     "execution_count": 7,
     "metadata": {},
     "output_type": "execute_result"
    },
    {
     "data": {
      "text/plain": [
       "[]"
      ]
     },
     "execution_count": 7,
     "metadata": {},
     "output_type": "execute_result"
    },
    {
     "data": {
      "text/plain": [
       "Text(0.5, 1.0, 'disgust')"
      ]
     },
     "execution_count": 7,
     "metadata": {},
     "output_type": "execute_result"
    },
    {
     "data": {
      "text/plain": [
       "<matplotlib.image.AxesImage at 0x7fa237dfba20>"
      ]
     },
     "execution_count": 7,
     "metadata": {},
     "output_type": "execute_result"
    },
    {
     "data": {
      "text/plain": [
       "[]"
      ]
     },
     "execution_count": 7,
     "metadata": {},
     "output_type": "execute_result"
    },
    {
     "data": {
      "text/plain": [
       "[]"
      ]
     },
     "execution_count": 7,
     "metadata": {},
     "output_type": "execute_result"
    },
    {
     "data": {
      "text/plain": [
       "Text(0.5, 1.0, 'disgust')"
      ]
     },
     "execution_count": 7,
     "metadata": {},
     "output_type": "execute_result"
    },
    {
     "data": {
      "text/plain": [
       "<matplotlib.image.AxesImage at 0x7fa237e354e0>"
      ]
     },
     "execution_count": 7,
     "metadata": {},
     "output_type": "execute_result"
    },
    {
     "data": {
      "text/plain": [
       "[]"
      ]
     },
     "execution_count": 7,
     "metadata": {},
     "output_type": "execute_result"
    },
    {
     "data": {
      "text/plain": [
       "[]"
      ]
     },
     "execution_count": 7,
     "metadata": {},
     "output_type": "execute_result"
    },
    {
     "data": {
      "text/plain": [
       "Text(0.5, 1.0, 'fear')"
      ]
     },
     "execution_count": 7,
     "metadata": {},
     "output_type": "execute_result"
    },
    {
     "data": {
      "text/plain": [
       "<matplotlib.image.AxesImage at 0x7fa237e68f98>"
      ]
     },
     "execution_count": 7,
     "metadata": {},
     "output_type": "execute_result"
    },
    {
     "data": {
      "text/plain": [
       "[]"
      ]
     },
     "execution_count": 7,
     "metadata": {},
     "output_type": "execute_result"
    },
    {
     "data": {
      "text/plain": [
       "[]"
      ]
     },
     "execution_count": 7,
     "metadata": {},
     "output_type": "execute_result"
    },
    {
     "data": {
      "text/plain": [
       "Text(0.5, 1.0, 'fear')"
      ]
     },
     "execution_count": 7,
     "metadata": {},
     "output_type": "execute_result"
    },
    {
     "data": {
      "text/plain": [
       "<matplotlib.image.AxesImage at 0x7fa237e9fa58>"
      ]
     },
     "execution_count": 7,
     "metadata": {},
     "output_type": "execute_result"
    },
    {
     "data": {
      "text/plain": [
       "[]"
      ]
     },
     "execution_count": 7,
     "metadata": {},
     "output_type": "execute_result"
    },
    {
     "data": {
      "text/plain": [
       "[]"
      ]
     },
     "execution_count": 7,
     "metadata": {},
     "output_type": "execute_result"
    },
    {
     "data": {
      "text/plain": [
       "Text(0.5, 1.0, 'fear')"
      ]
     },
     "execution_count": 7,
     "metadata": {},
     "output_type": "execute_result"
    },
    {
     "data": {
      "text/plain": [
       "<matplotlib.image.AxesImage at 0x7fa237ede518>"
      ]
     },
     "execution_count": 7,
     "metadata": {},
     "output_type": "execute_result"
    },
    {
     "data": {
      "text/plain": [
       "[]"
      ]
     },
     "execution_count": 7,
     "metadata": {},
     "output_type": "execute_result"
    },
    {
     "data": {
      "text/plain": [
       "[]"
      ]
     },
     "execution_count": 7,
     "metadata": {},
     "output_type": "execute_result"
    },
    {
     "data": {
      "text/plain": [
       "Text(0.5, 1.0, 'fear')"
      ]
     },
     "execution_count": 7,
     "metadata": {},
     "output_type": "execute_result"
    },
    {
     "data": {
      "text/plain": [
       "<matplotlib.image.AxesImage at 0x7fa237f07f98>"
      ]
     },
     "execution_count": 7,
     "metadata": {},
     "output_type": "execute_result"
    },
    {
     "data": {
      "text/plain": [
       "[]"
      ]
     },
     "execution_count": 7,
     "metadata": {},
     "output_type": "execute_result"
    },
    {
     "data": {
      "text/plain": [
       "[]"
      ]
     },
     "execution_count": 7,
     "metadata": {},
     "output_type": "execute_result"
    },
    {
     "data": {
      "text/plain": [
       "Text(0.5, 1.0, 'fear')"
      ]
     },
     "execution_count": 7,
     "metadata": {},
     "output_type": "execute_result"
    },
    {
     "data": {
      "text/plain": [
       "<matplotlib.image.AxesImage at 0x7fa237f41a58>"
      ]
     },
     "execution_count": 7,
     "metadata": {},
     "output_type": "execute_result"
    },
    {
     "data": {
      "text/plain": [
       "[]"
      ]
     },
     "execution_count": 7,
     "metadata": {},
     "output_type": "execute_result"
    },
    {
     "data": {
      "text/plain": [
       "[]"
      ]
     },
     "execution_count": 7,
     "metadata": {},
     "output_type": "execute_result"
    },
    {
     "data": {
      "text/plain": [
       "Text(0.5, 1.0, 'fear')"
      ]
     },
     "execution_count": 7,
     "metadata": {},
     "output_type": "execute_result"
    },
    {
     "data": {
      "text/plain": [
       "<matplotlib.image.AxesImage at 0x7fa237f7e518>"
      ]
     },
     "execution_count": 7,
     "metadata": {},
     "output_type": "execute_result"
    },
    {
     "data": {
      "text/plain": [
       "[]"
      ]
     },
     "execution_count": 7,
     "metadata": {},
     "output_type": "execute_result"
    },
    {
     "data": {
      "text/plain": [
       "[]"
      ]
     },
     "execution_count": 7,
     "metadata": {},
     "output_type": "execute_result"
    },
    {
     "data": {
      "text/plain": [
       "Text(0.5, 1.0, 'fear')"
      ]
     },
     "execution_count": 7,
     "metadata": {},
     "output_type": "execute_result"
    },
    {
     "data": {
      "text/plain": [
       "<matplotlib.image.AxesImage at 0x7fa237fb2f98>"
      ]
     },
     "execution_count": 7,
     "metadata": {},
     "output_type": "execute_result"
    },
    {
     "data": {
      "text/plain": [
       "[]"
      ]
     },
     "execution_count": 7,
     "metadata": {},
     "output_type": "execute_result"
    },
    {
     "data": {
      "text/plain": [
       "[]"
      ]
     },
     "execution_count": 7,
     "metadata": {},
     "output_type": "execute_result"
    },
    {
     "data": {
      "text/plain": [
       "Text(0.5, 1.0, 'happiness')"
      ]
     },
     "execution_count": 7,
     "metadata": {},
     "output_type": "execute_result"
    },
    {
     "data": {
      "text/plain": [
       "<matplotlib.image.AxesImage at 0x7fa23801ba90>"
      ]
     },
     "execution_count": 7,
     "metadata": {},
     "output_type": "execute_result"
    },
    {
     "data": {
      "text/plain": [
       "[]"
      ]
     },
     "execution_count": 7,
     "metadata": {},
     "output_type": "execute_result"
    },
    {
     "data": {
      "text/plain": [
       "[]"
      ]
     },
     "execution_count": 7,
     "metadata": {},
     "output_type": "execute_result"
    },
    {
     "data": {
      "text/plain": [
       "Text(0.5, 1.0, 'happiness')"
      ]
     },
     "execution_count": 7,
     "metadata": {},
     "output_type": "execute_result"
    },
    {
     "data": {
      "text/plain": [
       "<matplotlib.image.AxesImage at 0x7fa238058550>"
      ]
     },
     "execution_count": 7,
     "metadata": {},
     "output_type": "execute_result"
    },
    {
     "data": {
      "text/plain": [
       "[]"
      ]
     },
     "execution_count": 7,
     "metadata": {},
     "output_type": "execute_result"
    },
    {
     "data": {
      "text/plain": [
       "[]"
      ]
     },
     "execution_count": 7,
     "metadata": {},
     "output_type": "execute_result"
    },
    {
     "data": {
      "text/plain": [
       "Text(0.5, 1.0, 'happiness')"
      ]
     },
     "execution_count": 7,
     "metadata": {},
     "output_type": "execute_result"
    },
    {
     "data": {
      "text/plain": [
       "<matplotlib.image.AxesImage at 0x7fa23808dfd0>"
      ]
     },
     "execution_count": 7,
     "metadata": {},
     "output_type": "execute_result"
    },
    {
     "data": {
      "text/plain": [
       "[]"
      ]
     },
     "execution_count": 7,
     "metadata": {},
     "output_type": "execute_result"
    },
    {
     "data": {
      "text/plain": [
       "[]"
      ]
     },
     "execution_count": 7,
     "metadata": {},
     "output_type": "execute_result"
    },
    {
     "data": {
      "text/plain": [
       "Text(0.5, 1.0, 'happiness')"
      ]
     },
     "execution_count": 7,
     "metadata": {},
     "output_type": "execute_result"
    },
    {
     "data": {
      "text/plain": [
       "<matplotlib.image.AxesImage at 0x7fa2380cea90>"
      ]
     },
     "execution_count": 7,
     "metadata": {},
     "output_type": "execute_result"
    },
    {
     "data": {
      "text/plain": [
       "[]"
      ]
     },
     "execution_count": 7,
     "metadata": {},
     "output_type": "execute_result"
    },
    {
     "data": {
      "text/plain": [
       "[]"
      ]
     },
     "execution_count": 7,
     "metadata": {},
     "output_type": "execute_result"
    },
    {
     "data": {
      "text/plain": [
       "Text(0.5, 1.0, 'happiness')"
      ]
     },
     "execution_count": 7,
     "metadata": {},
     "output_type": "execute_result"
    },
    {
     "data": {
      "text/plain": [
       "<matplotlib.image.AxesImage at 0x7fa23810a550>"
      ]
     },
     "execution_count": 7,
     "metadata": {},
     "output_type": "execute_result"
    },
    {
     "data": {
      "text/plain": [
       "[]"
      ]
     },
     "execution_count": 7,
     "metadata": {},
     "output_type": "execute_result"
    },
    {
     "data": {
      "text/plain": [
       "[]"
      ]
     },
     "execution_count": 7,
     "metadata": {},
     "output_type": "execute_result"
    },
    {
     "data": {
      "text/plain": [
       "Text(0.5, 1.0, 'happiness')"
      ]
     },
     "execution_count": 7,
     "metadata": {},
     "output_type": "execute_result"
    },
    {
     "data": {
      "text/plain": [
       "<matplotlib.image.AxesImage at 0x7fa23813dfd0>"
      ]
     },
     "execution_count": 7,
     "metadata": {},
     "output_type": "execute_result"
    },
    {
     "data": {
      "text/plain": [
       "[]"
      ]
     },
     "execution_count": 7,
     "metadata": {},
     "output_type": "execute_result"
    },
    {
     "data": {
      "text/plain": [
       "[]"
      ]
     },
     "execution_count": 7,
     "metadata": {},
     "output_type": "execute_result"
    },
    {
     "data": {
      "text/plain": [
       "Text(0.5, 1.0, 'happiness')"
      ]
     },
     "execution_count": 7,
     "metadata": {},
     "output_type": "execute_result"
    },
    {
     "data": {
      "text/plain": [
       "<matplotlib.image.AxesImage at 0x7fa238182a90>"
      ]
     },
     "execution_count": 7,
     "metadata": {},
     "output_type": "execute_result"
    },
    {
     "data": {
      "text/plain": [
       "[]"
      ]
     },
     "execution_count": 7,
     "metadata": {},
     "output_type": "execute_result"
    },
    {
     "data": {
      "text/plain": [
       "[]"
      ]
     },
     "execution_count": 7,
     "metadata": {},
     "output_type": "execute_result"
    },
    {
     "data": {
      "text/plain": [
       "Text(0.5, 1.0, 'sadness')"
      ]
     },
     "execution_count": 7,
     "metadata": {},
     "output_type": "execute_result"
    },
    {
     "data": {
      "text/plain": [
       "<matplotlib.image.AxesImage at 0x7fa2381c2588>"
      ]
     },
     "execution_count": 7,
     "metadata": {},
     "output_type": "execute_result"
    },
    {
     "data": {
      "text/plain": [
       "[]"
      ]
     },
     "execution_count": 7,
     "metadata": {},
     "output_type": "execute_result"
    },
    {
     "data": {
      "text/plain": [
       "[]"
      ]
     },
     "execution_count": 7,
     "metadata": {},
     "output_type": "execute_result"
    },
    {
     "data": {
      "text/plain": [
       "Text(0.5, 1.0, 'sadness')"
      ]
     },
     "execution_count": 7,
     "metadata": {},
     "output_type": "execute_result"
    },
    {
     "data": {
      "text/plain": [
       "<matplotlib.image.AxesImage at 0x7fa238205048>"
      ]
     },
     "execution_count": 7,
     "metadata": {},
     "output_type": "execute_result"
    },
    {
     "data": {
      "text/plain": [
       "[]"
      ]
     },
     "execution_count": 7,
     "metadata": {},
     "output_type": "execute_result"
    },
    {
     "data": {
      "text/plain": [
       "[]"
      ]
     },
     "execution_count": 7,
     "metadata": {},
     "output_type": "execute_result"
    },
    {
     "data": {
      "text/plain": [
       "Text(0.5, 1.0, 'sadness')"
      ]
     },
     "execution_count": 7,
     "metadata": {},
     "output_type": "execute_result"
    },
    {
     "data": {
      "text/plain": [
       "<matplotlib.image.AxesImage at 0x7fa23823bac8>"
      ]
     },
     "execution_count": 7,
     "metadata": {},
     "output_type": "execute_result"
    },
    {
     "data": {
      "text/plain": [
       "[]"
      ]
     },
     "execution_count": 7,
     "metadata": {},
     "output_type": "execute_result"
    },
    {
     "data": {
      "text/plain": [
       "[]"
      ]
     },
     "execution_count": 7,
     "metadata": {},
     "output_type": "execute_result"
    },
    {
     "data": {
      "text/plain": [
       "Text(0.5, 1.0, 'sadness')"
      ]
     },
     "execution_count": 7,
     "metadata": {},
     "output_type": "execute_result"
    },
    {
     "data": {
      "text/plain": [
       "<matplotlib.image.AxesImage at 0x7fa23827d588>"
      ]
     },
     "execution_count": 7,
     "metadata": {},
     "output_type": "execute_result"
    },
    {
     "data": {
      "text/plain": [
       "[]"
      ]
     },
     "execution_count": 7,
     "metadata": {},
     "output_type": "execute_result"
    },
    {
     "data": {
      "text/plain": [
       "[]"
      ]
     },
     "execution_count": 7,
     "metadata": {},
     "output_type": "execute_result"
    },
    {
     "data": {
      "text/plain": [
       "Text(0.5, 1.0, 'sadness')"
      ]
     },
     "execution_count": 7,
     "metadata": {},
     "output_type": "execute_result"
    },
    {
     "data": {
      "text/plain": [
       "<matplotlib.image.AxesImage at 0x7fa2382c0048>"
      ]
     },
     "execution_count": 7,
     "metadata": {},
     "output_type": "execute_result"
    },
    {
     "data": {
      "text/plain": [
       "[]"
      ]
     },
     "execution_count": 7,
     "metadata": {},
     "output_type": "execute_result"
    },
    {
     "data": {
      "text/plain": [
       "[]"
      ]
     },
     "execution_count": 7,
     "metadata": {},
     "output_type": "execute_result"
    },
    {
     "data": {
      "text/plain": [
       "Text(0.5, 1.0, 'sadness')"
      ]
     },
     "execution_count": 7,
     "metadata": {},
     "output_type": "execute_result"
    },
    {
     "data": {
      "text/plain": [
       "<matplotlib.image.AxesImage at 0x7fa238435ac8>"
      ]
     },
     "execution_count": 7,
     "metadata": {},
     "output_type": "execute_result"
    },
    {
     "data": {
      "text/plain": [
       "[]"
      ]
     },
     "execution_count": 7,
     "metadata": {},
     "output_type": "execute_result"
    },
    {
     "data": {
      "text/plain": [
       "[]"
      ]
     },
     "execution_count": 7,
     "metadata": {},
     "output_type": "execute_result"
    },
    {
     "data": {
      "text/plain": [
       "Text(0.5, 1.0, 'sadness')"
      ]
     },
     "execution_count": 7,
     "metadata": {},
     "output_type": "execute_result"
    },
    {
     "data": {
      "text/plain": [
       "<matplotlib.image.AxesImage at 0x7fa23847c588>"
      ]
     },
     "execution_count": 7,
     "metadata": {},
     "output_type": "execute_result"
    },
    {
     "data": {
      "text/plain": [
       "[]"
      ]
     },
     "execution_count": 7,
     "metadata": {},
     "output_type": "execute_result"
    },
    {
     "data": {
      "text/plain": [
       "[]"
      ]
     },
     "execution_count": 7,
     "metadata": {},
     "output_type": "execute_result"
    },
    {
     "data": {
      "text/plain": [
       "Text(0.5, 1.0, 'surprise')"
      ]
     },
     "execution_count": 7,
     "metadata": {},
     "output_type": "execute_result"
    },
    {
     "data": {
      "text/plain": [
       "<matplotlib.image.AxesImage at 0x7fa2384c1080>"
      ]
     },
     "execution_count": 7,
     "metadata": {},
     "output_type": "execute_result"
    },
    {
     "data": {
      "text/plain": [
       "[]"
      ]
     },
     "execution_count": 7,
     "metadata": {},
     "output_type": "execute_result"
    },
    {
     "data": {
      "text/plain": [
       "[]"
      ]
     },
     "execution_count": 7,
     "metadata": {},
     "output_type": "execute_result"
    },
    {
     "data": {
      "text/plain": [
       "Text(0.5, 1.0, 'surprise')"
      ]
     },
     "execution_count": 7,
     "metadata": {},
     "output_type": "execute_result"
    },
    {
     "data": {
      "text/plain": [
       "<matplotlib.image.AxesImage at 0x7fa2384fdb00>"
      ]
     },
     "execution_count": 7,
     "metadata": {},
     "output_type": "execute_result"
    },
    {
     "data": {
      "text/plain": [
       "[]"
      ]
     },
     "execution_count": 7,
     "metadata": {},
     "output_type": "execute_result"
    },
    {
     "data": {
      "text/plain": [
       "[]"
      ]
     },
     "execution_count": 7,
     "metadata": {},
     "output_type": "execute_result"
    },
    {
     "data": {
      "text/plain": [
       "Text(0.5, 1.0, 'surprise')"
      ]
     },
     "execution_count": 7,
     "metadata": {},
     "output_type": "execute_result"
    },
    {
     "data": {
      "text/plain": [
       "<matplotlib.image.AxesImage at 0x7fa2385425c0>"
      ]
     },
     "execution_count": 7,
     "metadata": {},
     "output_type": "execute_result"
    },
    {
     "data": {
      "text/plain": [
       "[]"
      ]
     },
     "execution_count": 7,
     "metadata": {},
     "output_type": "execute_result"
    },
    {
     "data": {
      "text/plain": [
       "[]"
      ]
     },
     "execution_count": 7,
     "metadata": {},
     "output_type": "execute_result"
    },
    {
     "data": {
      "text/plain": [
       "Text(0.5, 1.0, 'surprise')"
      ]
     },
     "execution_count": 7,
     "metadata": {},
     "output_type": "execute_result"
    },
    {
     "data": {
      "text/plain": [
       "<matplotlib.image.AxesImage at 0x7fa238584080>"
      ]
     },
     "execution_count": 7,
     "metadata": {},
     "output_type": "execute_result"
    },
    {
     "data": {
      "text/plain": [
       "[]"
      ]
     },
     "execution_count": 7,
     "metadata": {},
     "output_type": "execute_result"
    },
    {
     "data": {
      "text/plain": [
       "[]"
      ]
     },
     "execution_count": 7,
     "metadata": {},
     "output_type": "execute_result"
    },
    {
     "data": {
      "text/plain": [
       "Text(0.5, 1.0, 'surprise')"
      ]
     },
     "execution_count": 7,
     "metadata": {},
     "output_type": "execute_result"
    },
    {
     "data": {
      "text/plain": [
       "<matplotlib.image.AxesImage at 0x7fa2385c0b00>"
      ]
     },
     "execution_count": 7,
     "metadata": {},
     "output_type": "execute_result"
    },
    {
     "data": {
      "text/plain": [
       "[]"
      ]
     },
     "execution_count": 7,
     "metadata": {},
     "output_type": "execute_result"
    },
    {
     "data": {
      "text/plain": [
       "[]"
      ]
     },
     "execution_count": 7,
     "metadata": {},
     "output_type": "execute_result"
    },
    {
     "data": {
      "text/plain": [
       "Text(0.5, 1.0, 'surprise')"
      ]
     },
     "execution_count": 7,
     "metadata": {},
     "output_type": "execute_result"
    },
    {
     "data": {
      "text/plain": [
       "<matplotlib.image.AxesImage at 0x7fa2387055c0>"
      ]
     },
     "execution_count": 7,
     "metadata": {},
     "output_type": "execute_result"
    },
    {
     "data": {
      "text/plain": [
       "[]"
      ]
     },
     "execution_count": 7,
     "metadata": {},
     "output_type": "execute_result"
    },
    {
     "data": {
      "text/plain": [
       "[]"
      ]
     },
     "execution_count": 7,
     "metadata": {},
     "output_type": "execute_result"
    },
    {
     "data": {
      "text/plain": [
       "Text(0.5, 1.0, 'surprise')"
      ]
     },
     "execution_count": 7,
     "metadata": {},
     "output_type": "execute_result"
    },
    {
     "data": {
      "text/plain": [
       "<matplotlib.image.AxesImage at 0x7fa23874d080>"
      ]
     },
     "execution_count": 7,
     "metadata": {},
     "output_type": "execute_result"
    },
    {
     "data": {
      "text/plain": [
       "[]"
      ]
     },
     "execution_count": 7,
     "metadata": {},
     "output_type": "execute_result"
    },
    {
     "data": {
      "text/plain": [
       "[]"
      ]
     },
     "execution_count": 7,
     "metadata": {},
     "output_type": "execute_result"
    },
    {
     "data": {
      "text/plain": [
       "Text(0.5, 1.0, 'neutral')"
      ]
     },
     "execution_count": 7,
     "metadata": {},
     "output_type": "execute_result"
    },
    {
     "data": {
      "text/plain": [
       "<matplotlib.image.AxesImage at 0x7fa238788b38>"
      ]
     },
     "execution_count": 7,
     "metadata": {},
     "output_type": "execute_result"
    },
    {
     "data": {
      "text/plain": [
       "[]"
      ]
     },
     "execution_count": 7,
     "metadata": {},
     "output_type": "execute_result"
    },
    {
     "data": {
      "text/plain": [
       "[]"
      ]
     },
     "execution_count": 7,
     "metadata": {},
     "output_type": "execute_result"
    },
    {
     "data": {
      "text/plain": [
       "Text(0.5, 1.0, 'neutral')"
      ]
     },
     "execution_count": 7,
     "metadata": {},
     "output_type": "execute_result"
    },
    {
     "data": {
      "text/plain": [
       "<matplotlib.image.AxesImage at 0x7fa2387d45f8>"
      ]
     },
     "execution_count": 7,
     "metadata": {},
     "output_type": "execute_result"
    },
    {
     "data": {
      "text/plain": [
       "[]"
      ]
     },
     "execution_count": 7,
     "metadata": {},
     "output_type": "execute_result"
    },
    {
     "data": {
      "text/plain": [
       "[]"
      ]
     },
     "execution_count": 7,
     "metadata": {},
     "output_type": "execute_result"
    },
    {
     "data": {
      "text/plain": [
       "Text(0.5, 1.0, 'neutral')"
      ]
     },
     "execution_count": 7,
     "metadata": {},
     "output_type": "execute_result"
    },
    {
     "data": {
      "text/plain": [
       "<matplotlib.image.AxesImage at 0x7fa2388260b8>"
      ]
     },
     "execution_count": 7,
     "metadata": {},
     "output_type": "execute_result"
    },
    {
     "data": {
      "text/plain": [
       "[]"
      ]
     },
     "execution_count": 7,
     "metadata": {},
     "output_type": "execute_result"
    },
    {
     "data": {
      "text/plain": [
       "[]"
      ]
     },
     "execution_count": 7,
     "metadata": {},
     "output_type": "execute_result"
    },
    {
     "data": {
      "text/plain": [
       "Text(0.5, 1.0, 'neutral')"
      ]
     },
     "execution_count": 7,
     "metadata": {},
     "output_type": "execute_result"
    },
    {
     "data": {
      "text/plain": [
       "<matplotlib.image.AxesImage at 0x7fa238859b38>"
      ]
     },
     "execution_count": 7,
     "metadata": {},
     "output_type": "execute_result"
    },
    {
     "data": {
      "text/plain": [
       "[]"
      ]
     },
     "execution_count": 7,
     "metadata": {},
     "output_type": "execute_result"
    },
    {
     "data": {
      "text/plain": [
       "[]"
      ]
     },
     "execution_count": 7,
     "metadata": {},
     "output_type": "execute_result"
    },
    {
     "data": {
      "text/plain": [
       "Text(0.5, 1.0, 'neutral')"
      ]
     },
     "execution_count": 7,
     "metadata": {},
     "output_type": "execute_result"
    },
    {
     "data": {
      "text/plain": [
       "<matplotlib.image.AxesImage at 0x7fa2388a25f8>"
      ]
     },
     "execution_count": 7,
     "metadata": {},
     "output_type": "execute_result"
    },
    {
     "data": {
      "text/plain": [
       "[]"
      ]
     },
     "execution_count": 7,
     "metadata": {},
     "output_type": "execute_result"
    },
    {
     "data": {
      "text/plain": [
       "[]"
      ]
     },
     "execution_count": 7,
     "metadata": {},
     "output_type": "execute_result"
    },
    {
     "data": {
      "text/plain": [
       "Text(0.5, 1.0, 'neutral')"
      ]
     },
     "execution_count": 7,
     "metadata": {},
     "output_type": "execute_result"
    },
    {
     "data": {
      "text/plain": [
       "<matplotlib.image.AxesImage at 0x7fa2388fd0b8>"
      ]
     },
     "execution_count": 7,
     "metadata": {},
     "output_type": "execute_result"
    },
    {
     "data": {
      "text/plain": [
       "[]"
      ]
     },
     "execution_count": 7,
     "metadata": {},
     "output_type": "execute_result"
    },
    {
     "data": {
      "text/plain": [
       "[]"
      ]
     },
     "execution_count": 7,
     "metadata": {},
     "output_type": "execute_result"
    },
    {
     "data": {
      "text/plain": [
       "Text(0.5, 1.0, 'neutral')"
      ]
     },
     "execution_count": 7,
     "metadata": {},
     "output_type": "execute_result"
    },
    {
     "data": {
      "image/png": "[encoded data removed]",
      "text/plain": [
       "<Figure size 1008x1008 with 49 Axes>"
      ]
     },
     "metadata": {},
     "output_type": "display_data"
    }
   ],
   "source": [
    "# Visualize some examples from the dataset.\n",
    "fig = plt.figure(1, (14, 14))\n",
    "emotion_label_to_text = {0:'anger', 1:'disgust', 2:'fear', 3:'happiness', 4: 'sadness', 5: 'surprise', 6: 'neutral'}\n",
    "classes = sorted(df.emotion.unique())\n",
    "\n",
    "k = 0\n",
    "for label in classes:\n",
    "    for j in range(7):\n",
    "        px = df[df.emotion==label].pixels.iloc[k]\n",
    "        px = np.array(px.split(' ')).reshape(48, 48).astype('float32')\n",
    "\n",
    "        k += 1\n",
    "        ax = plt.subplot(7, 7, k)\n",
    "        ax.imshow(px)\n",
    "        ax.set_xticks([])\n",
    "        ax.set_yticks([])\n",
    "        ax.set_title(emotion_label_to_text[label])\n",
    "        plt.tight_layout()"
   ]
  },
  {
   "cell_type": "code",
   "execution_count": 8,
   "metadata": {},
   "outputs": [],
   "source": [
    "#reading string values and saving them as an array of independent features\n",
    "y = df.emotion\n",
    "pixels_str = df.to_numpy()[:,1]\n",
    "row_num = pixels_str.shape[0]\n",
    "row_length = 48*48\n",
    "X = np.zeros((row_num,row_length))\n",
    "for row in range(row_num):\n",
    "    X[row] = np.fromstring(pixels_str[row], dtype=np.float, sep=' ')"
   ]
  },
  {
   "cell_type": "code",
   "execution_count": 9,
   "metadata": {},
   "outputs": [
    {
     "name": "stdout",
     "output_type": "stream",
     "text": [
      "number of data points:  35887\n",
      "pictre lenth as vector:  2304\n"
     ]
    }
   ],
   "source": [
    "print('number of data points: ', X.shape[0])\n",
    "print('pictre lenth as vector: ', X.shape[1])"
   ]
  },
  {
   "cell_type": "code",
   "execution_count": 10,
   "metadata": {},
   "outputs": [
    {
     "name": "stdout",
     "output_type": "stream",
     "text": [
      "[[0.2745098  0.31372549 0.32156863 ... 0.41568627 0.42745098 0.32156863]\n",
      " [0.59215686 0.58823529 0.57647059 ... 0.75686275 0.71764706 0.72156863]\n",
      " [0.90588235 0.83137255 0.61176471 ... 0.34509804 0.43137255 0.59607843]\n",
      " ...\n",
      " [0.06666667 0.06666667 0.0627451  ... 0.60392157 0.52156863 0.44313725]\n",
      " [0.11764706 0.10980392 0.10980392 ... 0.1372549  0.11764706 0.10980392]\n",
      " [0.0745098  0.05098039 0.05490196 ... 0.74117647 0.78039216 0.78823529]]\n"
     ]
    }
   ],
   "source": [
    "# Pixels normalization\n",
    "X = X/255\n",
    "print(X)"
   ]
  },
  {
   "cell_type": "code",
   "execution_count": 11,
   "metadata": {},
   "outputs": [],
   "source": [
    "# merge data together\n",
    "df = pd.DataFrame(X).add_prefix(\"px_\")\n",
    "df['emotion'] = y"
   ]
  },
  {
   "cell_type": "code",
   "execution_count": 12,
   "metadata": {},
   "outputs": [
    {
     "data": {
      "text/html": [
       "<div>\n",
       "<style scoped>\n",
       "    .dataframe tbody tr th:only-of-type {\n",
       "        vertical-align: middle;\n",
       "    }\n",
       "\n",
       "    .dataframe tbody tr th {\n",
       "        vertical-align: top;\n",
       "    }\n",
       "\n",
       "    .dataframe thead th {\n",
       "        text-align: right;\n",
       "    }\n",
       "</style>\n",
       "<table border=\"1\" class=\"dataframe\">\n",
       "  <thead>\n",
       "    <tr style=\"text-align: right;\">\n",
       "      <th></th>\n",
       "      <th>px_0</th>\n",
       "      <th>px_1</th>\n",
       "      <th>px_2</th>\n",
       "      <th>px_3</th>\n",
       "      <th>px_4</th>\n",
       "      <th>px_5</th>\n",
       "      <th>px_6</th>\n",
       "      <th>px_7</th>\n",
       "      <th>px_8</th>\n",
       "      <th>px_9</th>\n",
       "      <th>...</th>\n",
       "      <th>px_2295</th>\n",
       "      <th>px_2296</th>\n",
       "      <th>px_2297</th>\n",
       "      <th>px_2298</th>\n",
       "      <th>px_2299</th>\n",
       "      <th>px_2300</th>\n",
       "      <th>px_2301</th>\n",
       "      <th>px_2302</th>\n",
       "      <th>px_2303</th>\n",
       "      <th>emotion</th>\n",
       "    </tr>\n",
       "  </thead>\n",
       "  <tbody>\n",
       "    <tr>\n",
       "      <th>0</th>\n",
       "      <td>0.274510</td>\n",
       "      <td>0.313725</td>\n",
       "      <td>0.321569</td>\n",
       "      <td>0.282353</td>\n",
       "      <td>0.227451</td>\n",
       "      <td>0.227451</td>\n",
       "      <td>0.235294</td>\n",
       "      <td>0.247059</td>\n",
       "      <td>0.211765</td>\n",
       "      <td>0.227451</td>\n",
       "      <td>...</td>\n",
       "      <td>0.713725</td>\n",
       "      <td>0.717647</td>\n",
       "      <td>0.533333</td>\n",
       "      <td>0.415686</td>\n",
       "      <td>0.454902</td>\n",
       "      <td>0.372549</td>\n",
       "      <td>0.415686</td>\n",
       "      <td>0.427451</td>\n",
       "      <td>0.321569</td>\n",
       "      <td>0</td>\n",
       "    </tr>\n",
       "    <tr>\n",
       "      <th>1</th>\n",
       "      <td>0.592157</td>\n",
       "      <td>0.588235</td>\n",
       "      <td>0.576471</td>\n",
       "      <td>0.607843</td>\n",
       "      <td>0.580392</td>\n",
       "      <td>0.521569</td>\n",
       "      <td>0.435294</td>\n",
       "      <td>0.549020</td>\n",
       "      <td>0.666667</td>\n",
       "      <td>0.682353</td>\n",
       "      <td>...</td>\n",
       "      <td>0.423529</td>\n",
       "      <td>0.372549</td>\n",
       "      <td>0.423529</td>\n",
       "      <td>0.400000</td>\n",
       "      <td>0.262745</td>\n",
       "      <td>0.670588</td>\n",
       "      <td>0.756863</td>\n",
       "      <td>0.717647</td>\n",
       "      <td>0.721569</td>\n",
       "      <td>0</td>\n",
       "    </tr>\n",
       "    <tr>\n",
       "      <th>2</th>\n",
       "      <td>0.905882</td>\n",
       "      <td>0.831373</td>\n",
       "      <td>0.611765</td>\n",
       "      <td>0.643137</td>\n",
       "      <td>0.682353</td>\n",
       "      <td>0.541176</td>\n",
       "      <td>0.631373</td>\n",
       "      <td>0.678431</td>\n",
       "      <td>0.713725</td>\n",
       "      <td>0.784314</td>\n",
       "      <td>...</td>\n",
       "      <td>0.541176</td>\n",
       "      <td>0.596078</td>\n",
       "      <td>0.478431</td>\n",
       "      <td>0.447059</td>\n",
       "      <td>0.396078</td>\n",
       "      <td>0.380392</td>\n",
       "      <td>0.345098</td>\n",
       "      <td>0.431373</td>\n",
       "      <td>0.596078</td>\n",
       "      <td>2</td>\n",
       "    </tr>\n",
       "    <tr>\n",
       "      <th>3</th>\n",
       "      <td>0.094118</td>\n",
       "      <td>0.125490</td>\n",
       "      <td>0.141176</td>\n",
       "      <td>0.117647</td>\n",
       "      <td>0.125490</td>\n",
       "      <td>0.090196</td>\n",
       "      <td>0.074510</td>\n",
       "      <td>0.078431</td>\n",
       "      <td>0.117647</td>\n",
       "      <td>0.160784</td>\n",
       "      <td>...</td>\n",
       "      <td>0.494118</td>\n",
       "      <td>0.517647</td>\n",
       "      <td>0.517647</td>\n",
       "      <td>0.521569</td>\n",
       "      <td>0.533333</td>\n",
       "      <td>0.545098</td>\n",
       "      <td>0.556863</td>\n",
       "      <td>0.560784</td>\n",
       "      <td>0.556863</td>\n",
       "      <td>4</td>\n",
       "    </tr>\n",
       "    <tr>\n",
       "      <th>4</th>\n",
       "      <td>0.015686</td>\n",
       "      <td>0.000000</td>\n",
       "      <td>0.000000</td>\n",
       "      <td>0.000000</td>\n",
       "      <td>0.000000</td>\n",
       "      <td>0.000000</td>\n",
       "      <td>0.000000</td>\n",
       "      <td>0.000000</td>\n",
       "      <td>0.000000</td>\n",
       "      <td>0.000000</td>\n",
       "      <td>...</td>\n",
       "      <td>0.133333</td>\n",
       "      <td>0.121569</td>\n",
       "      <td>0.121569</td>\n",
       "      <td>0.121569</td>\n",
       "      <td>0.105882</td>\n",
       "      <td>0.121569</td>\n",
       "      <td>0.117647</td>\n",
       "      <td>0.113725</td>\n",
       "      <td>0.117647</td>\n",
       "      <td>6</td>\n",
       "    </tr>\n",
       "  </tbody>\n",
       "</table>\n",
       "<p>5 rows × 2305 columns</p>\n",
       "</div>"
      ],
      "text/plain": [
       "       px_0      px_1      px_2      px_3      px_4      px_5      px_6  \\\n",
       "0  0.274510  0.313725  0.321569  0.282353  0.227451  0.227451  0.235294   \n",
       "1  0.592157  0.588235  0.576471  0.607843  0.580392  0.521569  0.435294   \n",
       "2  0.905882  0.831373  0.611765  0.643137  0.682353  0.541176  0.631373   \n",
       "3  0.094118  0.125490  0.141176  0.117647  0.125490  0.090196  0.074510   \n",
       "4  0.015686  0.000000  0.000000  0.000000  0.000000  0.000000  0.000000   \n",
       "\n",
       "       px_7      px_8      px_9  ...   px_2295   px_2296   px_2297   px_2298  \\\n",
       "0  0.247059  0.211765  0.227451  ...  0.713725  0.717647  0.533333  0.415686   \n",
       "1  0.549020  0.666667  0.682353  ...  0.423529  0.372549  0.423529  0.400000   \n",
       "2  0.678431  0.713725  0.784314  ...  0.541176  0.596078  0.478431  0.447059   \n",
       "3  0.078431  0.117647  0.160784  ...  0.494118  0.517647  0.517647  0.521569   \n",
       "4  0.000000  0.000000  0.000000  ...  0.133333  0.121569  0.121569  0.121569   \n",
       "\n",
       "    px_2299   px_2300   px_2301   px_2302   px_2303  emotion  \n",
       "0  0.454902  0.372549  0.415686  0.427451  0.321569        0  \n",
       "1  0.262745  0.670588  0.756863  0.717647  0.721569        0  \n",
       "2  0.396078  0.380392  0.345098  0.431373  0.596078        2  \n",
       "3  0.533333  0.545098  0.556863  0.560784  0.556863        4  \n",
       "4  0.105882  0.121569  0.117647  0.113725  0.117647        6  \n",
       "\n",
       "[5 rows x 2305 columns]"
      ]
     },
     "execution_count": 12,
     "metadata": {},
     "output_type": "execute_result"
    }
   ],
   "source": [
    "df.head()"
   ]
  },
  {
   "cell_type": "code",
   "execution_count": 13,
   "metadata": {},
   "outputs": [
    {
     "name": "stdout",
     "output_type": "stream",
     "text": [
      "<class 'pandas.core.frame.DataFrame'>\n",
      "RangeIndex: 35887 entries, 0 to 35886\n",
      "Columns: 2305 entries, px_0 to emotion\n",
      "dtypes: float64(2304), int64(1)\n",
      "memory usage: 631.1 MB\n"
     ]
    }
   ],
   "source": [
    "df.info()"
   ]
  },
  {
   "cell_type": "code",
   "execution_count": 14,
   "metadata": {},
   "outputs": [],
   "source": [
    "# calculating correlations\n",
    "correlations = df.corr().filter(['emotion']).drop(['emotion'])"
   ]
  },
  {
   "cell_type": "code",
   "execution_count": 15,
   "metadata": {},
   "outputs": [
    {
     "data": {
      "text/html": [
       "<div>\n",
       "<style scoped>\n",
       "    .dataframe tbody tr th:only-of-type {\n",
       "        vertical-align: middle;\n",
       "    }\n",
       "\n",
       "    .dataframe tbody tr th {\n",
       "        vertical-align: top;\n",
       "    }\n",
       "\n",
       "    .dataframe thead th {\n",
       "        text-align: right;\n",
       "    }\n",
       "</style>\n",
       "<table border=\"1\" class=\"dataframe\">\n",
       "  <thead>\n",
       "    <tr style=\"text-align: right;\">\n",
       "      <th></th>\n",
       "      <th>emotion</th>\n",
       "    </tr>\n",
       "  </thead>\n",
       "  <tbody>\n",
       "    <tr>\n",
       "      <th>px_1456</th>\n",
       "      <td>0.108582</td>\n",
       "    </tr>\n",
       "    <tr>\n",
       "      <th>px_1408</th>\n",
       "      <td>0.107349</td>\n",
       "    </tr>\n",
       "    <tr>\n",
       "      <th>px_1504</th>\n",
       "      <td>0.106707</td>\n",
       "    </tr>\n",
       "    <tr>\n",
       "      <th>px_1503</th>\n",
       "      <td>0.105727</td>\n",
       "    </tr>\n",
       "    <tr>\n",
       "      <th>px_1455</th>\n",
       "      <td>0.102692</td>\n",
       "    </tr>\n",
       "    <tr>\n",
       "      <th>px_1551</th>\n",
       "      <td>0.102115</td>\n",
       "    </tr>\n",
       "    <tr>\n",
       "      <th>px_1552</th>\n",
       "      <td>0.100529</td>\n",
       "    </tr>\n",
       "    <tr>\n",
       "      <th>px_1361</th>\n",
       "      <td>0.100110</td>\n",
       "    </tr>\n",
       "    <tr>\n",
       "      <th>px_1360</th>\n",
       "      <td>0.100011</td>\n",
       "    </tr>\n",
       "    <tr>\n",
       "      <th>px_1409</th>\n",
       "      <td>0.099442</td>\n",
       "    </tr>\n",
       "    <tr>\n",
       "      <th>px_1407</th>\n",
       "      <td>0.099081</td>\n",
       "    </tr>\n",
       "    <tr>\n",
       "      <th>px_1457</th>\n",
       "      <td>0.095522</td>\n",
       "    </tr>\n",
       "    <tr>\n",
       "      <th>px_1505</th>\n",
       "      <td>0.094700</td>\n",
       "    </tr>\n",
       "    <tr>\n",
       "      <th>px_1502</th>\n",
       "      <td>0.092981</td>\n",
       "    </tr>\n",
       "    <tr>\n",
       "      <th>px_1553</th>\n",
       "      <td>0.092528</td>\n",
       "    </tr>\n",
       "    <tr>\n",
       "      <th>px_1600</th>\n",
       "      <td>0.092386</td>\n",
       "    </tr>\n",
       "    <tr>\n",
       "      <th>px_1599</th>\n",
       "      <td>0.092200</td>\n",
       "    </tr>\n",
       "    <tr>\n",
       "      <th>px_1454</th>\n",
       "      <td>0.090153</td>\n",
       "    </tr>\n",
       "    <tr>\n",
       "      <th>px_1423</th>\n",
       "      <td>0.089698</td>\n",
       "    </tr>\n",
       "    <tr>\n",
       "      <th>px_1313</th>\n",
       "      <td>0.089540</td>\n",
       "    </tr>\n",
       "    <tr>\n",
       "      <th>px_1471</th>\n",
       "      <td>0.089382</td>\n",
       "    </tr>\n",
       "    <tr>\n",
       "      <th>px_1601</th>\n",
       "      <td>0.089130</td>\n",
       "    </tr>\n",
       "    <tr>\n",
       "      <th>px_1359</th>\n",
       "      <td>0.089126</td>\n",
       "    </tr>\n",
       "    <tr>\n",
       "      <th>px_1550</th>\n",
       "      <td>0.089121</td>\n",
       "    </tr>\n",
       "    <tr>\n",
       "      <th>px_1520</th>\n",
       "      <td>0.088117</td>\n",
       "    </tr>\n",
       "    <tr>\n",
       "      <th>px_1472</th>\n",
       "      <td>0.087679</td>\n",
       "    </tr>\n",
       "    <tr>\n",
       "      <th>px_1312</th>\n",
       "      <td>0.086402</td>\n",
       "    </tr>\n",
       "    <tr>\n",
       "      <th>px_1519</th>\n",
       "      <td>0.085968</td>\n",
       "    </tr>\n",
       "    <tr>\n",
       "      <th>px_1375</th>\n",
       "      <td>0.084921</td>\n",
       "    </tr>\n",
       "    <tr>\n",
       "      <th>px_1424</th>\n",
       "      <td>0.084381</td>\n",
       "    </tr>\n",
       "    <tr>\n",
       "      <th>...</th>\n",
       "      <td>...</td>\n",
       "    </tr>\n",
       "    <tr>\n",
       "      <th>px_30</th>\n",
       "      <td>0.061233</td>\n",
       "    </tr>\n",
       "    <tr>\n",
       "      <th>px_1607</th>\n",
       "      <td>0.061160</td>\n",
       "    </tr>\n",
       "    <tr>\n",
       "      <th>px_1469</th>\n",
       "      <td>0.061055</td>\n",
       "    </tr>\n",
       "    <tr>\n",
       "      <th>px_1277</th>\n",
       "      <td>0.060977</td>\n",
       "    </tr>\n",
       "    <tr>\n",
       "      <th>px_1411</th>\n",
       "      <td>0.060974</td>\n",
       "    </tr>\n",
       "    <tr>\n",
       "      <th>px_1709</th>\n",
       "      <td>0.060967</td>\n",
       "    </tr>\n",
       "    <tr>\n",
       "      <th>px_1522</th>\n",
       "      <td>0.060908</td>\n",
       "    </tr>\n",
       "    <tr>\n",
       "      <th>px_1609</th>\n",
       "      <td>0.060457</td>\n",
       "    </tr>\n",
       "    <tr>\n",
       "      <th>px_13</th>\n",
       "      <td>0.060211</td>\n",
       "    </tr>\n",
       "    <tr>\n",
       "      <th>px_1657</th>\n",
       "      <td>0.060196</td>\n",
       "    </tr>\n",
       "    <tr>\n",
       "      <th>px_1606</th>\n",
       "      <td>0.059995</td>\n",
       "    </tr>\n",
       "    <tr>\n",
       "      <th>px_1474</th>\n",
       "      <td>0.059992</td>\n",
       "    </tr>\n",
       "    <tr>\n",
       "      <th>px_1759</th>\n",
       "      <td>0.059947</td>\n",
       "    </tr>\n",
       "    <tr>\n",
       "      <th>px_1700</th>\n",
       "      <td>0.059918</td>\n",
       "    </tr>\n",
       "    <tr>\n",
       "      <th>px_35</th>\n",
       "      <td>0.059875</td>\n",
       "    </tr>\n",
       "    <tr>\n",
       "      <th>px_10</th>\n",
       "      <td>0.059752</td>\n",
       "    </tr>\n",
       "    <tr>\n",
       "      <th>px_26</th>\n",
       "      <td>0.059652</td>\n",
       "    </tr>\n",
       "    <tr>\n",
       "      <th>px_1570</th>\n",
       "      <td>0.059636</td>\n",
       "    </tr>\n",
       "    <tr>\n",
       "      <th>px_1605</th>\n",
       "      <td>0.059559</td>\n",
       "    </tr>\n",
       "    <tr>\n",
       "      <th>px_27</th>\n",
       "      <td>0.059521</td>\n",
       "    </tr>\n",
       "    <tr>\n",
       "      <th>px_1746</th>\n",
       "      <td>0.059520</td>\n",
       "    </tr>\n",
       "    <tr>\n",
       "      <th>px_82</th>\n",
       "      <td>0.059453</td>\n",
       "    </tr>\n",
       "    <tr>\n",
       "      <th>px_12</th>\n",
       "      <td>0.059384</td>\n",
       "    </tr>\n",
       "    <tr>\n",
       "      <th>px_14</th>\n",
       "      <td>0.059159</td>\n",
       "    </tr>\n",
       "    <tr>\n",
       "      <th>px_29</th>\n",
       "      <td>0.059059</td>\n",
       "    </tr>\n",
       "    <tr>\n",
       "      <th>px_1217</th>\n",
       "      <td>0.058733</td>\n",
       "    </tr>\n",
       "    <tr>\n",
       "      <th>px_1612</th>\n",
       "      <td>0.058421</td>\n",
       "    </tr>\n",
       "    <tr>\n",
       "      <th>px_36</th>\n",
       "      <td>0.058279</td>\n",
       "    </tr>\n",
       "    <tr>\n",
       "      <th>px_28</th>\n",
       "      <td>0.058103</td>\n",
       "    </tr>\n",
       "    <tr>\n",
       "      <th>px_83</th>\n",
       "      <td>0.058100</td>\n",
       "    </tr>\n",
       "  </tbody>\n",
       "</table>\n",
       "<p>149 rows × 1 columns</p>\n",
       "</div>"
      ],
      "text/plain": [
       "          emotion\n",
       "px_1456  0.108582\n",
       "px_1408  0.107349\n",
       "px_1504  0.106707\n",
       "px_1503  0.105727\n",
       "px_1455  0.102692\n",
       "px_1551  0.102115\n",
       "px_1552  0.100529\n",
       "px_1361  0.100110\n",
       "px_1360  0.100011\n",
       "px_1409  0.099442\n",
       "px_1407  0.099081\n",
       "px_1457  0.095522\n",
       "px_1505  0.094700\n",
       "px_1502  0.092981\n",
       "px_1553  0.092528\n",
       "px_1600  0.092386\n",
       "px_1599  0.092200\n",
       "px_1454  0.090153\n",
       "px_1423  0.089698\n",
       "px_1313  0.089540\n",
       "px_1471  0.089382\n",
       "px_1601  0.089130\n",
       "px_1359  0.089126\n",
       "px_1550  0.089121\n",
       "px_1520  0.088117\n",
       "px_1472  0.087679\n",
       "px_1312  0.086402\n",
       "px_1519  0.085968\n",
       "px_1375  0.084921\n",
       "px_1424  0.084381\n",
       "...           ...\n",
       "px_30    0.061233\n",
       "px_1607  0.061160\n",
       "px_1469  0.061055\n",
       "px_1277  0.060977\n",
       "px_1411  0.060974\n",
       "px_1709  0.060967\n",
       "px_1522  0.060908\n",
       "px_1609  0.060457\n",
       "px_13    0.060211\n",
       "px_1657  0.060196\n",
       "px_1606  0.059995\n",
       "px_1474  0.059992\n",
       "px_1759  0.059947\n",
       "px_1700  0.059918\n",
       "px_35    0.059875\n",
       "px_10    0.059752\n",
       "px_26    0.059652\n",
       "px_1570  0.059636\n",
       "px_1605  0.059559\n",
       "px_27    0.059521\n",
       "px_1746  0.059520\n",
       "px_82    0.059453\n",
       "px_12    0.059384\n",
       "px_14    0.059159\n",
       "px_29    0.059059\n",
       "px_1217  0.058733\n",
       "px_1612  0.058421\n",
       "px_36    0.058279\n",
       "px_28    0.058103\n",
       "px_83    0.058100\n",
       "\n",
       "[149 rows x 1 columns]"
      ]
     },
     "execution_count": 15,
     "metadata": {},
     "output_type": "execute_result"
    }
   ],
   "source": [
    "# show top 150 correlated pixels\n",
    "top_cor = correlations.abs().sort_values(kind=\"quicksort\",by=['emotion']).iloc[::-1][:149]\n",
    "top_cor"
   ]
  },
  {
   "cell_type": "code",
   "execution_count": 16,
   "metadata": {},
   "outputs": [
    {
     "data": {
      "text/html": [
       "<div>\n",
       "<style scoped>\n",
       "    .dataframe tbody tr th:only-of-type {\n",
       "        vertical-align: middle;\n",
       "    }\n",
       "\n",
       "    .dataframe tbody tr th {\n",
       "        vertical-align: top;\n",
       "    }\n",
       "\n",
       "    .dataframe thead th {\n",
       "        text-align: right;\n",
       "    }\n",
       "</style>\n",
       "<table border=\"1\" class=\"dataframe\">\n",
       "  <thead>\n",
       "    <tr style=\"text-align: right;\">\n",
       "      <th></th>\n",
       "      <th>px_1456</th>\n",
       "      <th>px_1408</th>\n",
       "      <th>px_1504</th>\n",
       "      <th>px_1503</th>\n",
       "      <th>px_1455</th>\n",
       "      <th>px_1551</th>\n",
       "      <th>px_1552</th>\n",
       "      <th>px_1361</th>\n",
       "      <th>px_1360</th>\n",
       "      <th>px_1409</th>\n",
       "      <th>...</th>\n",
       "      <th>px_82</th>\n",
       "      <th>px_12</th>\n",
       "      <th>px_14</th>\n",
       "      <th>px_29</th>\n",
       "      <th>px_1217</th>\n",
       "      <th>px_1612</th>\n",
       "      <th>px_36</th>\n",
       "      <th>px_28</th>\n",
       "      <th>px_83</th>\n",
       "      <th>emotion</th>\n",
       "    </tr>\n",
       "  </thead>\n",
       "  <tbody>\n",
       "    <tr>\n",
       "      <th>0</th>\n",
       "      <td>0.654902</td>\n",
       "      <td>0.674510</td>\n",
       "      <td>0.639216</td>\n",
       "      <td>0.635294</td>\n",
       "      <td>0.654902</td>\n",
       "      <td>0.627451</td>\n",
       "      <td>0.619608</td>\n",
       "      <td>0.698039</td>\n",
       "      <td>0.701961</td>\n",
       "      <td>0.662745</td>\n",
       "      <td>...</td>\n",
       "      <td>0.654902</td>\n",
       "      <td>0.349020</td>\n",
       "      <td>0.474510</td>\n",
       "      <td>0.670588</td>\n",
       "      <td>0.705882</td>\n",
       "      <td>0.713725</td>\n",
       "      <td>0.443137</td>\n",
       "      <td>0.619608</td>\n",
       "      <td>0.454902</td>\n",
       "      <td>0</td>\n",
       "    </tr>\n",
       "    <tr>\n",
       "      <th>1</th>\n",
       "      <td>0.360784</td>\n",
       "      <td>0.388235</td>\n",
       "      <td>0.349020</td>\n",
       "      <td>0.337255</td>\n",
       "      <td>0.439216</td>\n",
       "      <td>0.243137</td>\n",
       "      <td>0.384314</td>\n",
       "      <td>0.376471</td>\n",
       "      <td>0.364706</td>\n",
       "      <td>0.450980</td>\n",
       "      <td>...</td>\n",
       "      <td>0.533333</td>\n",
       "      <td>0.600000</td>\n",
       "      <td>0.678431</td>\n",
       "      <td>0.631373</td>\n",
       "      <td>0.474510</td>\n",
       "      <td>0.654902</td>\n",
       "      <td>0.631373</td>\n",
       "      <td>0.650980</td>\n",
       "      <td>0.423529</td>\n",
       "      <td>0</td>\n",
       "    </tr>\n",
       "    <tr>\n",
       "      <th>2</th>\n",
       "      <td>0.650980</td>\n",
       "      <td>0.772549</td>\n",
       "      <td>0.670588</td>\n",
       "      <td>0.556863</td>\n",
       "      <td>0.611765</td>\n",
       "      <td>0.772549</td>\n",
       "      <td>0.764706</td>\n",
       "      <td>0.654902</td>\n",
       "      <td>0.800000</td>\n",
       "      <td>0.533333</td>\n",
       "      <td>...</td>\n",
       "      <td>0.792157</td>\n",
       "      <td>0.152941</td>\n",
       "      <td>0.541176</td>\n",
       "      <td>0.862745</td>\n",
       "      <td>0.980392</td>\n",
       "      <td>0.788235</td>\n",
       "      <td>0.635294</td>\n",
       "      <td>0.850980</td>\n",
       "      <td>0.682353</td>\n",
       "      <td>2</td>\n",
       "    </tr>\n",
       "    <tr>\n",
       "      <th>3</th>\n",
       "      <td>0.482353</td>\n",
       "      <td>0.486275</td>\n",
       "      <td>0.529412</td>\n",
       "      <td>0.584314</td>\n",
       "      <td>0.643137</td>\n",
       "      <td>0.592157</td>\n",
       "      <td>0.588235</td>\n",
       "      <td>0.513725</td>\n",
       "      <td>0.435294</td>\n",
       "      <td>0.529412</td>\n",
       "      <td>...</td>\n",
       "      <td>0.384314</td>\n",
       "      <td>0.125490</td>\n",
       "      <td>0.082353</td>\n",
       "      <td>0.435294</td>\n",
       "      <td>0.529412</td>\n",
       "      <td>0.482353</td>\n",
       "      <td>0.752941</td>\n",
       "      <td>0.384314</td>\n",
       "      <td>0.505882</td>\n",
       "      <td>4</td>\n",
       "    </tr>\n",
       "    <tr>\n",
       "      <th>4</th>\n",
       "      <td>0.580392</td>\n",
       "      <td>0.552941</td>\n",
       "      <td>0.603922</td>\n",
       "      <td>0.580392</td>\n",
       "      <td>0.588235</td>\n",
       "      <td>0.556863</td>\n",
       "      <td>0.600000</td>\n",
       "      <td>0.501961</td>\n",
       "      <td>0.552941</td>\n",
       "      <td>0.486275</td>\n",
       "      <td>...</td>\n",
       "      <td>0.662745</td>\n",
       "      <td>0.011765</td>\n",
       "      <td>0.090196</td>\n",
       "      <td>0.596078</td>\n",
       "      <td>0.533333</td>\n",
       "      <td>0.811765</td>\n",
       "      <td>0.325490</td>\n",
       "      <td>0.600000</td>\n",
       "      <td>0.576471</td>\n",
       "      <td>6</td>\n",
       "    </tr>\n",
       "  </tbody>\n",
       "</table>\n",
       "<p>5 rows × 150 columns</p>\n",
       "</div>"
      ],
      "text/plain": [
       "    px_1456   px_1408   px_1504   px_1503   px_1455   px_1551   px_1552  \\\n",
       "0  0.654902  0.674510  0.639216  0.635294  0.654902  0.627451  0.619608   \n",
       "1  0.360784  0.388235  0.349020  0.337255  0.439216  0.243137  0.384314   \n",
       "2  0.650980  0.772549  0.670588  0.556863  0.611765  0.772549  0.764706   \n",
       "3  0.482353  0.486275  0.529412  0.584314  0.643137  0.592157  0.588235   \n",
       "4  0.580392  0.552941  0.603922  0.580392  0.588235  0.556863  0.600000   \n",
       "\n",
       "    px_1361   px_1360   px_1409  ...     px_82     px_12     px_14     px_29  \\\n",
       "0  0.698039  0.701961  0.662745  ...  0.654902  0.349020  0.474510  0.670588   \n",
       "1  0.376471  0.364706  0.450980  ...  0.533333  0.600000  0.678431  0.631373   \n",
       "2  0.654902  0.800000  0.533333  ...  0.792157  0.152941  0.541176  0.862745   \n",
       "3  0.513725  0.435294  0.529412  ...  0.384314  0.125490  0.082353  0.435294   \n",
       "4  0.501961  0.552941  0.486275  ...  0.662745  0.011765  0.090196  0.596078   \n",
       "\n",
       "    px_1217   px_1612     px_36     px_28     px_83  emotion  \n",
       "0  0.705882  0.713725  0.443137  0.619608  0.454902        0  \n",
       "1  0.474510  0.654902  0.631373  0.650980  0.423529        0  \n",
       "2  0.980392  0.788235  0.635294  0.850980  0.682353        2  \n",
       "3  0.529412  0.482353  0.752941  0.384314  0.505882        4  \n",
       "4  0.533333  0.811765  0.325490  0.600000  0.576471        6  \n",
       "\n",
       "[5 rows x 150 columns]"
      ]
     },
     "execution_count": 16,
     "metadata": {},
     "output_type": "execute_result"
    }
   ],
   "source": [
    "index_list = np.append(np.array(top_cor.index),'emotion')\n",
    "norm_selected_df = df[index_list]\n",
    "norm_selected_df.head()"
   ]
  },
  {
   "cell_type": "code",
   "execution_count": 17,
   "metadata": {},
   "outputs": [
    {
     "data": {
      "text/plain": [
       "(35887, 150)"
      ]
     },
     "execution_count": 17,
     "metadata": {},
     "output_type": "execute_result"
    }
   ],
   "source": [
    "norm_selected_df.shape"
   ]
  },
  {
   "cell_type": "code",
   "execution_count": 18,
   "metadata": {},
   "outputs": [
    {
     "data": {
      "text/plain": [
       "3    8989\n",
       "6    6198\n",
       "4    6077\n",
       "2    5121\n",
       "0    4953\n",
       "5    4002\n",
       "1     547\n",
       "Name: emotion, dtype: int64"
      ]
     },
     "execution_count": 18,
     "metadata": {},
     "output_type": "execute_result"
    }
   ],
   "source": [
    "norm_selected_df.emotion.value_counts()"
   ]
  },
  {
   "cell_type": "code",
   "execution_count": 19,
   "metadata": {},
   "outputs": [],
   "source": [
    "# save the file as csv \n",
    "# IMPORTANT: necessary to set index as False\n",
    "norm_selected_df.to_csv('norm_selected_pixels.csv', index=False)"
   ]
  },
  {
   "cell_type": "code",
   "execution_count": null,
   "metadata": {},
   "outputs": [],
   "source": []
  },
  {
   "cell_type": "code",
   "execution_count": null,
   "metadata": {},
   "outputs": [],
   "source": []
  },
  {
   "cell_type": "code",
   "execution_count": null,
   "metadata": {},
   "outputs": [],
   "source": []
  },
  {
   "cell_type": "code",
   "execution_count": null,
   "metadata": {},
   "outputs": [],
   "source": []
  }
 ],
 "metadata": {
  "kernelspec": {
   "display_name": "Python 3",
   "language": "python",
   "name": "python3"
  },
  "language_info": {
   "codemirror_mode": {
    "name": "ipython",
    "version": 3
   },
   "file_extension": ".py",
   "mimetype": "text/x-python",
   "name": "python",
   "nbconvert_exporter": "python",
   "pygments_lexer": "ipython3",
   "version": "3.7.3"
  }
 },
 "nbformat": 4,
 "nbformat_minor": 2
}
